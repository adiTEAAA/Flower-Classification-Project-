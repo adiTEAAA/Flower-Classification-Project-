{
 "cells": [
  {
   "cell_type": "code",
   "execution_count": 2,
   "id": "11520552-a8c8-4455-8b2d-19d3e2c380ae",
   "metadata": {},
   "outputs": [
    {
     "name": "stderr",
     "output_type": "stream",
     "text": [
      "C:\\Users\\ADITYA\\AppData\\Local\\Temp\\ipykernel_21336\\4249708926.py:26: GradioDeprecationWarning: Usage of gradio.inputs is deprecated, and will not be supported in the future, please import your component from gradio.components\n",
      "  image_input = gr.inputs.Image(shape=(71, 71))  # Adjust shape based on your model's input size\n",
      "C:\\Users\\ADITYA\\AppData\\Local\\Temp\\ipykernel_21336\\4249708926.py:26: GradioDeprecationWarning: `optional` parameter is deprecated, and it has no effect\n",
      "  image_input = gr.inputs.Image(shape=(71, 71))  # Adjust shape based on your model's input size\n",
      "C:\\Users\\ADITYA\\AppData\\Local\\Temp\\ipykernel_21336\\4249708926.py:27: GradioDeprecationWarning: Usage of gradio.outputs is deprecated, and will not be supported in the future, please import your components from gradio.components\n",
      "  label_output = gr.outputs.Label(num_top_classes=5)\n",
      "C:\\Users\\ADITYA\\AppData\\Local\\Temp\\ipykernel_21336\\4249708926.py:27: GradioUnusedKwargWarning: You have unused kwarg parameters in Label, please remove them: {'type': 'auto'}\n",
      "  label_output = gr.outputs.Label(num_top_classes=5)\n"
     ]
    },
    {
     "name": "stdout",
     "output_type": "stream",
     "text": [
      "Running on local URL:  http://127.0.0.1:7861\n",
      "\n",
      "Could not create share link. Please check your internet connection or our status page: https://status.gradio.app.\n"
     ]
    },
    {
     "data": {
      "text/html": [
       "<div><iframe src=\"http://127.0.0.1:7861/\" width=\"100%\" height=\"500\" allow=\"autoplay; camera; microphone; clipboard-read; clipboard-write;\" frameborder=\"0\" allowfullscreen></iframe></div>"
      ],
      "text/plain": [
       "<IPython.core.display.HTML object>"
      ]
     },
     "metadata": {},
     "output_type": "display_data"
    },
    {
     "data": {
      "text/plain": []
     },
     "execution_count": 2,
     "metadata": {},
     "output_type": "execute_result"
    },
    {
     "name": "stdout",
     "output_type": "stream",
     "text": [
      "1/1 [==============================] - 1s 659ms/step\n",
      "1/1 [==============================] - 0s 49ms/step\n",
      "1/1 [==============================] - 0s 46ms/step\n",
      "1/1 [==============================] - 0s 51ms/step\n"
     ]
    }
   ],
   "source": [
    "import numpy as np\n",
    "from keras.preprocessing import image as keras_image\n",
    "import gradio as gr\n",
    "from keras.models import load_model\n",
    "\n",
    "# Load the pre-trained CNN model\n",
    "model = load_model('Model2.h5')  # Load your trained model here\n",
    "\n",
    "# Define the class names for your flower classes\n",
    "class_names = ['Lily', 'Lotus', 'Orchid', 'Sunflower', 'Tulip']\n",
    "\n",
    "def predict_flower(image):\n",
    "    # Preprocess the input image\n",
    "    img = keras_image.img_to_array(image)\n",
    "    img = np.expand_dims(img, axis=0)\n",
    "    img = img / 255.0  # Normalize pixel values between 0 and 1\n",
    "\n",
    "    # Make predictions using the loaded model\n",
    "    predictions = model.predict(img)[0]\n",
    "    \n",
    "    # Create a dictionary mapping class names to predicted probabilities\n",
    "    result = {class_names[i]: float(predictions[i]) for i in range(len(class_names))}\n",
    "    return result\n",
    "\n",
    "# Define Gradio interface with a title\n",
    "image_input = gr.inputs.Image(shape=(71, 71))  # Adjust shape based on your model's input size\n",
    "label_output = gr.outputs.Label(num_top_classes=5)\n",
    "\n",
    "footer = {\n",
    "    \"text\": \"<div style='text-align: center; font-weight: bold;'>Our AI-powered flower classification model uses deep learning to recognize flower species. \"\n",
    "            \"It provides not only the names but also interesting details about the flowers, enhancing your botanical knowledge. \"\n",
    "            \"Whether it's the delicate elegance of a lily, the serene beauty of a lotus, the exotic charm of an orchid, \"\n",
    "            \"the vibrant hues of a sunflower, or the timeless allure of a tulip, our tool provides a holistic experience, transforming your interactions with flowers into an educational adventure.</div>\"\n",
    "}\n",
    "\n",
    "gr.Interface(\n",
    "    fn=predict_flower,\n",
    "    inputs=image_input,\n",
    "    outputs=label_output,\n",
    "    title=\"<div style='font-size: 45px; font-weight: bold; font-family: Arial Black;'>Flower Classification using CNN</div>\",  # Set the title for the interface with styles\n",
    "    description=\"<div style='text-align:center; font-size:20px;'><strong>Discover Nature with AI:</strong> Explore the world of flowers with our CNN-powered classification model. Upload a photo and unveil the secrets of lily, lotus, orchids, sunflowers, and tulips.</div>\",\n",
    "    article=footer[\"text\"],  # Pass the dictionary value as a string\n",
    ").launch(share=True)\n"
   ]
  },
  {
   "cell_type": "code",
   "execution_count": null,
   "id": "8d80d37e-1fe2-438b-9bd7-db472528fef5",
   "metadata": {},
   "outputs": [],
   "source": []
  }
 ],
 "metadata": {
  "kernelspec": {
   "display_name": "Python 3 (ipykernel)",
   "language": "python",
   "name": "python3"
  },
  "language_info": {
   "codemirror_mode": {
    "name": "ipython",
    "version": 3
   },
   "file_extension": ".py",
   "mimetype": "text/x-python",
   "name": "python",
   "nbconvert_exporter": "python",
   "pygments_lexer": "ipython3",
   "version": "3.11.6"
  }
 },
 "nbformat": 4,
 "nbformat_minor": 5
}
